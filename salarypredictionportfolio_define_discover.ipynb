{
 "cells": [
  {
   "cell_type": "markdown",
   "id": "7c18c5d8",
   "metadata": {},
   "source": [
    "# Skyler's Salary Prediction Portfolio"
   ]
  },
  {
   "cell_type": "markdown",
   "id": "d156728d",
   "metadata": {},
   "source": [
    "## DEFINE"
   ]
  },
  {
   "cell_type": "markdown",
   "id": "73223c44",
   "metadata": {},
   "source": [
    "### Make salary predictions on each role with help from mean-squared-error (MSE) models"
   ]
  },
  {
   "cell_type": "code",
   "execution_count": 3,
   "id": "8dc1f598",
   "metadata": {},
   "outputs": [],
   "source": [
    "''' this script defines a problem and discovers the data'''\n",
    "\n",
    "__author__ = 'Skyler Bullard, Business Analyst'\n",
    "__contactinfo__ = 'skyler.bullard.r@gmail.com'"
   ]
  }
 ],
 "metadata": {
  "kernelspec": {
   "display_name": "Python 3 (ipykernel)",
   "language": "python",
   "name": "python3"
  },
  "language_info": {
   "codemirror_mode": {
    "name": "ipython",
    "version": 3
   },
   "file_extension": ".py",
   "mimetype": "text/x-python",
   "name": "python",
   "nbconvert_exporter": "python",
   "pygments_lexer": "ipython3",
   "version": "3.9.7"
  }
 },
 "nbformat": 4,
 "nbformat_minor": 5
}
