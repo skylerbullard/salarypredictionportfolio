{
 "cells": [
  {
   "cell_type": "markdown",
   "id": "c02ef85f",
   "metadata": {},
   "source": [
    "# Skyler's Salary Prediction Portfolio"
   ]
  },
  {
   "cell_type": "markdown",
   "id": "dd78d067",
   "metadata": {},
   "source": [
    "## DEFINE"
   ]
  },
  {
   "cell_type": "markdown",
   "id": "5be730ff",
   "metadata": {},
   "source": [
    "### Make salary predictions on each role with help from mean-squared-error (MSE) models"
   ]
  },
  {
   "cell_type": "code",
   "execution_count": 4,
   "id": "14dfbd69",
   "metadata": {},
   "outputs": [],
   "source": [
    "''' this script defines a problem and discovers the data'''\n",
    "\n",
    "__author__ = 'Skyler Bullard, Business Analyst'\n",
    "__contactinfo__ = 'skyler.bullard.r@gmail.com'"
   ]
  },
  {
   "cell_type": "code",
   "execution_count": 3,
   "id": "081b5eae",
   "metadata": {},
   "outputs": [],
   "source": [
    "#import everything we might need\n",
    "import pandas as pd\n",
    "import numpy as np\n",
    "import seaborn as sns\n",
    "import matplotlib.pyplot as plt\n",
    "import scipy.stats as st"
   ]
  },
  {
   "cell_type": "code",
   "execution_count": 5,
   "id": "937b3f42",
   "metadata": {},
   "outputs": [],
   "source": [
    "#load data\n",
    "path = '/Users/sky/Users/Skyler/DSDJ/Personal Portfolio/salarypredictionportfolio/data/'\n",
    "\n",
    "test_features = pd.read_csv( open(path + 'test_features.csv') )\n",
    "train_features = pd.read_csv( open(path + 'train_features.csv') )\n",
    "train_salaries = pd.read_csv( open(path + 'train_salaries.csv') )"
   ]
  },
  {
   "cell_type": "code",
   "execution_count": null,
   "id": "29bbaa3e",
   "metadata": {},
   "outputs": [],
   "source": []
  }
 ],
 "metadata": {
  "kernelspec": {
   "display_name": "Python 3 (ipykernel)",
   "language": "python",
   "name": "python3"
  },
  "language_info": {
   "codemirror_mode": {
    "name": "ipython",
    "version": 3
   },
   "file_extension": ".py",
   "mimetype": "text/x-python",
   "name": "python",
   "nbconvert_exporter": "python",
   "pygments_lexer": "ipython3",
   "version": "3.9.7"
  }
 },
 "nbformat": 4,
 "nbformat_minor": 5
}
