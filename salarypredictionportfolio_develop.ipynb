{
 "cells": [
  {
   "cell_type": "code",
   "execution_count": null,
   "id": "ae1fa477",
   "metadata": {},
   "outputs": [],
   "source": [
    "''' This test script builds and runs three predictive models. The model with the lowest MSE score is\n",
    "    used to show the most important features'''\n",
    "\n",
    "__author__ = 'skyler bullard'\n",
    "\n",
    "__copyright__ = 'Copyright 2018, Data Science Dream Job LLC'"
   ]
  },
  {
   "cell_type": "code",
   "execution_count": null,
   "id": "91483757",
   "metadata": {},
   "outputs": [],
   "source": []
  }
 ],
 "metadata": {
  "kernelspec": {
   "display_name": "Python 3 (ipykernel)",
   "language": "python",
   "name": "python3"
  },
  "language_info": {
   "codemirror_mode": {
    "name": "ipython",
    "version": 3
   },
   "file_extension": ".py",
   "mimetype": "text/x-python",
   "name": "python",
   "nbconvert_exporter": "python",
   "pygments_lexer": "ipython3",
   "version": "3.9.12"
  }
 },
 "nbformat": 4,
 "nbformat_minor": 5
}
