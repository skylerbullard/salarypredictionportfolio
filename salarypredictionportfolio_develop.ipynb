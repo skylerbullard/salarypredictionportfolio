{
 "cells": [
  {
   "cell_type": "code",
   "execution_count": null,
   "id": "1d1b4f98",
   "metadata": {},
   "outputs": [],
   "source": [
    "''' This test script builds and runs three predictive models. The model with the lowest MSE score is\n",
    "    used to show the most important features'''\n",
    "\n",
    "__author__ = 'skyler bullard'\n",
    "\n",
    "__copyright__ = 'Copyright 2018, Data Science Dream Job LLC'"
   ]
  },
  {
   "cell_type": "code",
   "execution_count": 2,
   "id": "b5ea16f7",
   "metadata": {},
   "outputs": [],
   "source": [
    "#import everything we might need\n",
    "import pandas as pd\n",
    "import numpy as np\n",
    "import matplotlib.pyplot as plt\n",
    "from sklearn.model_selection import cross_val_score\n",
    "from sklearn.utils import shuffle\n",
    "from sklearn.linear_model import LinearRegression\n",
    "from sklearn.cluster import AgglomerativeClustering\n",
    "from sklearn.cluster import KMeans"
   ]
  },
  {
   "cell_type": "code",
   "execution_count": null,
   "id": "38a18560",
   "metadata": {},
   "outputs": [],
   "source": [
    "path = 'C:/Users/sprtn/jupyter_project_files/salarypredictionportfolio/DSDJ-data-SalaryPredictions/data/'\n",
    "\n",
    "test_features = pd.read_csv( open(path + 'test_features.csv') )\n",
    "train_features = pd.read_csv( open(path + 'train_features.csv') )\n",
    "train_salaries = pd.read_csv( open(path + 'train_salaries.csv') )"
   ]
  },
  {
   "cell_type": "code",
   "execution_count": null,
   "id": "fc0a89e7",
   "metadata": {},
   "outputs": [],
   "source": [
    "#define variables\n",
    "categorical_vars = [ 'companyId' , 'jobType' , 'degree' , 'major' , 'industry' ]\n",
    "numerical_vars = [ 'yearsExperience' , 'milesFromMetropolis' ]\n",
    "target_var = 'salary'\n",
    "\n",
    "raw_"
   ]
  }
 ],
 "metadata": {
  "kernelspec": {
   "display_name": "Python 3 (ipykernel)",
   "language": "python",
   "name": "python3"
  },
  "language_info": {
   "codemirror_mode": {
    "name": "ipython",
    "version": 3
   },
   "file_extension": ".py",
   "mimetype": "text/x-python",
   "name": "python",
   "nbconvert_exporter": "python",
   "pygments_lexer": "ipython3",
   "version": "3.9.12"
  }
 },
 "nbformat": 4,
 "nbformat_minor": 5
}
