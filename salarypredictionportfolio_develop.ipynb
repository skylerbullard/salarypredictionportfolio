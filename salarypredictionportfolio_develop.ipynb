{
 "cells": [
  {
   "cell_type": "code",
   "execution_count": 5,
   "id": "528af523",
   "metadata": {},
   "outputs": [],
   "source": [
    "''' This test script builds and runs three predictive models. The model with the lowest MSE score is\n",
    "    used to show the most important features'''\n",
    "\n",
    "__author__ = 'skyler bullard'\n",
    "\n",
    "__copyright__ = 'Copyright 2018, Data Science Dream Job LLC'"
   ]
  },
  {
   "cell_type": "code",
   "execution_count": 6,
   "id": "6624940b",
   "metadata": {},
   "outputs": [],
   "source": [
    "#import everything we might need\n",
    "import pandas as pd\n",
    "import numpy as np\n",
    "import matplotlib.pyplot as plt\n",
    "from sklearn.model_selection import cross_val_score\n",
    "from sklearn.utils import shuffle\n",
    "from sklearn.linear_model import LinearRegression\n",
    "from sklearn.cluster import AgglomerativeClustering\n",
    "from sklearn.cluster import KMeans"
   ]
  },
  {
   "cell_type": "code",
   "execution_count": 7,
   "id": "80ffec71",
   "metadata": {},
   "outputs": [],
   "source": [
    "path = 'C:/Users/sprtn/jupyter_project_files/salarypredictionportfolio/DSDJ-data-SalaryPredictions/data/'\n",
    "\n",
    "test_features = pd.read_csv( open(path + 'test_features.csv') )\n",
    "train_features = pd.read_csv( open(path + 'train_features.csv') )\n",
    "train_salaries = pd.read_csv( open(path + 'train_salaries.csv') )"
   ]
  },
  {
   "cell_type": "code",
   "execution_count": 8,
   "id": "0d8416de",
   "metadata": {},
   "outputs": [
    {
     "ename": "SyntaxError",
     "evalue": "invalid syntax (3412018102.py, line 4)",
     "output_type": "error",
     "traceback": [
      "\u001b[1;36m  Input \u001b[1;32mIn [8]\u001b[1;36m\u001b[0m\n\u001b[1;33m    left_index = left_index , right_index = right_index )\u001b[0m\n\u001b[1;37m    ^\u001b[0m\n\u001b[1;31mSyntaxError\u001b[0m\u001b[1;31m:\u001b[0m invalid syntax\n"
     ]
    }
   ],
   "source": [
    "#inner join to return records present only in both dataframes\n",
    "def consolidate_data ( df1 , df2 , key = None , left_index = False , right_index = False ):\n",
    "    return pd.merge( left = df1 , right = df2 , how = 'inner' , on = key ,\n",
    "                   left_index = left_index , right_index = right_index )\n",
    "\n",
    "#remove rows containing salary <= 0 or duplicate job IDs\n",
    "def clean_data( raw_df ):\n",
    "    clean_df = raw_df.drop_duplicates(subset = 'jobId' )\n",
    "    clean_df = clean_df[ clean_df.salary > 0 ]\n",
    "    return clean_df\n",
    "\n",
    "#one-hot encoding on all categorical variables and combines result with continuous variables\n",
    "def one_hot_encode_feature_df( df , cat_vars = None, num_vars = None ):\n",
    "    cat_df = pd.get_dummies( df[ cat_vars ] )\n",
    "    num_df = df[ num_vars ].apply( pd.to_numeric ) \n",
    "    return pd.concat( [ cat_df , num_df ] , axis = 1 )\n",
    "\n",
    "#return target dataframe\n",
    "def get_target_df( df , target ):\n",
    "    return df[ target ]"
   ]
  },
  {
   "cell_type": "code",
   "execution_count": null,
   "id": "5eb669f2",
   "metadata": {},
   "outputs": [],
   "source": [
    "#define feature variables\n",
    "categorical_vars = [ 'companyId' , 'jobType' , 'degree' , 'major' , 'industry' ]\n",
    "numerical_vars = [ 'yearsExperience' , 'milesFromMetropolis' ]\n",
    "target_var = 'salary'"
   ]
  },
  {
   "cell_type": "code",
   "execution_count": null,
   "id": "2a8b900b",
   "metadata": {},
   "outputs": [],
   "source": [
    "#consolidated training data\n",
    "raw_training_df = consolidate_data( train_features , train_salaries , key = 'jobId' )"
   ]
  }
 ],
 "metadata": {
  "kernelspec": {
   "display_name": "Python 3 (ipykernel)",
   "language": "python",
   "name": "python3"
  },
  "language_info": {
   "codemirror_mode": {
    "name": "ipython",
    "version": 3
   },
   "file_extension": ".py",
   "mimetype": "text/x-python",
   "name": "python",
   "nbconvert_exporter": "python",
   "pygments_lexer": "ipython3",
   "version": "3.9.12"
  }
 },
 "nbformat": 4,
 "nbformat_minor": 5
}
